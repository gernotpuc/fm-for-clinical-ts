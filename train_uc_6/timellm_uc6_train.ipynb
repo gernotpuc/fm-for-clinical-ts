{
 "cells": [
  {
   "cell_type": "code",
   "execution_count": null,
   "metadata": {},
   "outputs": [],
   "source": [
    "import nbimporter\n",
    "import random\n",
    "from imports import *\n",
    "from functions_uc6 import *\n",
    "pd.set_option('max_colwidth', None)\n",
    "pd.set_option('display.max_columns', None)\n",
    "pd.set_option('display.max_rows', None)"
   ]
  },
  {
   "cell_type": "code",
   "execution_count": null,
   "metadata": {},
   "outputs": [],
   "source": [
    "# load data\n",
    "data_ume_ = pd.read_csv(\"./YOUR_PATH/YOUR_FILE.csv\", delimiter=';')"
   ]
  },
  {
   "cell_type": "code",
   "execution_count": null,
   "metadata": {},
   "outputs": [],
   "source": [
    "# data preprocessing\n",
    "data_ume_scaled, scaler_ume = process_use_case_3_data_with_scaling(data_ume_, start_date_ume, end_date_ume)"
   ]
  },
  {
   "cell_type": "code",
   "execution_count": null,
   "metadata": {},
   "outputs": [],
   "source": [
    "# Recreate rolling windows \n",
    "X, y, prediction_start_dates,X_df,y_df,full_data = create_rolling_windows_with_weekday_prediction(\n",
    "    data_ume_scaled, target_col=\"shift_count\", lookback=42, horizon=28, prediction_days=['Monday', 'Tuesday', 'Wednesday', 'Thursday', 'Friday','Saturday','Sunday','Monday', 'Tuesday', 'Wednesday', 'Thursday', 'Friday','Saturday','Sunday','Monday', 'Tuesday', 'Wednesday', 'Thursday', 'Friday','Saturday','Sunday','Monday', 'Tuesday', 'Wednesday', 'Thursday', 'Friday','Saturday','Sunday']\n",
    ")"
   ]
  },
  {
   "cell_type": "code",
   "execution_count": null,
   "metadata": {},
   "outputs": [],
   "source": [
    "def timellm_predict(full_data,scaler):\n",
    "    full_data_test = full_data.groupby(\"id\").tail(21)\n",
    "    full_data_train = full_data.drop(full_data_test.index)\n",
    "    full_data_train_ = full_data_train.rename(columns={'date': 'ds', 'id': 'unique_id','value':'y'})\n",
    "    full_data_test_ = full_data_test.rename(columns={'date': 'ds', 'id': 'unique_id','value':'y'})\n",
    "    full_data= full_data.rename(columns={'date': 'ds', 'id': 'unique_id','value':'y'})\n",
    "    full_data_train_ = full_data_train_.drop(columns=['type'])\n",
    "    full_data_test_ = full_data_test_.drop(columns=['type'])\n",
    "    random.seed(42)\n",
    "    random_encounter_ids = random.sample(list(full_data_train_['unique_id']), 5000) # change for no fine-tuning\n",
    "    # Filtering out the selected encounter IDs\n",
    "    full_data_train_limit = full_data_train_[full_data_train_['unique_id'].isin(random_encounter_ids)]\n",
    "    full_data_test_limit = full_data_test_[full_data_test_['unique_id'].isin(random_encounter_ids)]\n",
    "    prompt_prefix = \"The dataset containts time series of CT-scan procedures. Values are min-max scaled. Predicted values can't be negative. The prediction should be done for the following 28 days with 1D sampling frequency. Predictions should be float. Dont make predicted values too similar, addd amplitudes and spikes!\"\n",
    "    timellm = TimeLLM(\n",
    "        h=28,\n",
    "        input_size=42,\n",
    "        llm='meta-llama/Llama-2-7b-hf',\n",
    "        prompt_prefix=prompt_prefix,\n",
    "        batch_size=24,\n",
    "        d_llm=4096,\n",
    "        valid_batch_size=24,\n",
    "        windows_batch_size=24,\n",
    "        max_steps=100,\n",
    "        learning_rate=1e-4\n",
    "    )\n",
    "\n",
    "    nf = NeuralForecast(\n",
    "        models=[timellm],\n",
    "        freq='D'\n",
    "        )\n",
    "    nf.fit(df=full_data_train_limit)\n",
    "    forecasts = nf.predict(full_data_train_)\n",
    "    \n",
    "    def rescale_to_original(scaled_df, scaler, columns_to_rescale):\n",
    "        scaled_df[columns_to_rescale] = scaler.inverse_transform(scaled_df[columns_to_rescale])\n",
    "        return scaled_df\n",
    "    \n",
    "    columns_to_rescale_actual = [\"y\"]\n",
    "    columns_to_rescale_predict = [\"TimeLLM\"]\n",
    "    actuals = rescale_to_original(full_data_test_, scaler,columns_to_rescale_actual)\n",
    "    predictions = rescale_to_original(forecasts, scaler,columns_to_rescale_predict)\n",
    "    return predictions,actuals,nf"
   ]
  }
 ],
 "metadata": {
  "kernelspec": {
   "display_name": "Python 3 (ipykernel)",
   "language": "python",
   "name": "python3"
  },
  "language_info": {
   "codemirror_mode": {
    "name": "ipython",
    "version": 3
   },
   "file_extension": ".py",
   "mimetype": "text/x-python",
   "name": "python",
   "nbconvert_exporter": "python",
   "pygments_lexer": "ipython3",
   "version": "3.10.14"
  }
 },
 "nbformat": 4,
 "nbformat_minor": 4
}
