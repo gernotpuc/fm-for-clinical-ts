{
 "cells": [
  {
   "cell_type": "code",
   "execution_count": null,
   "metadata": {},
   "outputs": [],
   "source": [
    "from imports import *\n",
    "from functions_uc import *\n",
    "\n",
    "def timellm_predict(full_data,scaler,prediction_length,context_length,prompt_prefix):\n",
    "    full_data_test = full_data.groupby(\"id\").tail(prediction_length)\n",
    "    full_data_train = full_data.drop(full_data_test.index)\n",
    "    full_data_train_ = full_data_train.rename(columns={'date': 'ds', 'id': 'unique_id','value':'y'})\n",
    "    full_data_test_ = full_data_test.rename(columns={'date': 'ds', 'id': 'unique_id','value':'y'})\n",
    "    full_data= full_data.rename(columns={'date': 'ds', 'id': 'unique_id','value':'y'})\n",
    "    full_data_train_ = full_data_train_.drop(columns=['type'])\n",
    "    full_data_test_ = full_data_test_.drop(columns=['type'])\n",
    "    random.seed(42)\n",
    "    n_observed = full_data_test_['unique_id'].nunique()\n",
    "    random_encounter_ids = random.sample(list(full_data_train_['unique_id']), n_observed) # change for no fine-tuning\n",
    "    # Filtering out the selected encounter IDs\n",
    "    full_data_train_limit = full_data_train_[full_data_train_['unique_id'].isin(random_encounter_ids)]\n",
    "    full_data_test_limit = full_data_test_[full_data_test_['unique_id'].isin(random_encounter_ids)]\n",
    "    prompt_prefix = prompt_prefix\n",
    "    timellm = TimeLLM(\n",
    "        h=prediction_length,\n",
    "        input_size=context_length,\n",
    "        llm='meta-llama/Llama-2-7b-hf',\n",
    "        prompt_prefix=prompt_prefix,\n",
    "        batch_size=24,\n",
    "        d_llm=4096,\n",
    "        valid_batch_size=24,\n",
    "        windows_batch_size=24,\n",
    "        max_steps=100,\n",
    "        learning_rate=1e-4\n",
    "    )\n",
    "\n",
    "    nf = NeuralForecast(\n",
    "        models=[timellm],\n",
    "        freq='D'\n",
    "        )\n",
    "    nf.fit(df=full_data_train_limit)\n",
    "    forecasts = nf.predict(full_data_train_)\n",
    "    \n",
    "    def rescale_to_original(scaled_df, scaler, columns_to_rescale):\n",
    "        scaled_df[columns_to_rescale] = scaler.inverse_transform(scaled_df[columns_to_rescale])\n",
    "        return scaled_df\n",
    "    \n",
    "    columns_to_rescale_actual = [\"y\"]\n",
    "    columns_to_rescale_predict = [\"TimeLLM\"]\n",
    "    actuals = rescale_to_original(full_data_test_, scaler,columns_to_rescale_actual)\n",
    "    predictions = rescale_to_original(forecasts, scaler,columns_to_rescale_predict)\n",
    "    return predictions,actuals,nf"
   ]
  }
 ],
 "metadata": {
  "kernelspec": {
   "display_name": "Python 3 (ipykernel)",
   "language": "python",
   "name": "python3"
  },
  "language_info": {
   "codemirror_mode": {
    "name": "ipython",
    "version": 3
   },
   "file_extension": ".py",
   "mimetype": "text/x-python",
   "name": "python",
   "nbconvert_exporter": "python",
   "pygments_lexer": "ipython3",
   "version": "3.10.14"
  }
 },
 "nbformat": 4,
 "nbformat_minor": 4
}
