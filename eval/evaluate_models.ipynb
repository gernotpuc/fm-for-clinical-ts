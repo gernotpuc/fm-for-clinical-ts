{
 "cells": [
  {
   "cell_type": "code",
   "execution_count": null,
   "id": "7ae57a2e-a74b-4b65-be80-3337dc7bd9b0",
   "metadata": {},
   "outputs": [],
   "source": [
    "from imports import *\n",
    "from functions_uc import *"
   ]
  },
  {
   "cell_type": "code",
   "execution_count": null,
   "id": "678cde2c-ff10-440d-a9c8-89305f48d5a6",
   "metadata": {},
   "outputs": [],
   "source": [
    "train_series_dict_full,valid_series_dict_full,resampled_df,scaler = data_processing_training_scale(data_to_val,value_to_predict,resample_rate,min_ts_length,imputation,max_train_length,prediction_length,padding, scale_series)\n"
   ]
  },
  {
   "cell_type": "code",
   "execution_count": null,
   "id": "81025811-e55b-477f-a2a9-9d54119e00d4",
   "metadata": {},
   "outputs": [],
   "source": [
    "ensemble = TimeSeriesPredictor.load(\"./autogluon_ensemble\")\n",
    "chronos= TimeSeriesPredictor.load(\"./hronos\")\n",
    "local = TimeSeriesPredictor.load(\"./baseline\")\n",
    "timellm_fine_tuned = NeuralForecast.load(path='./time_llm_finetuned/')\n",
    "timellm_zero_shot = NeuralForecast.load(path='./time_llm_zeroshot/')\n",
    "nbeats_model = NBEATSModel.load(\"./nbeats.pth.tar\")\n",
    "lgbm_model = LightGBMModel.load(\"./lgbm.pth.tar\")\n",
    "\n",
    "model_name=model_name\n",
    "output_dir_forecasting = \"./results/\"\n",
    "output_dir_classification = \"./results/classification/\"\n",
    "forecasting_filename = \"model_name.csv\"\n",
    "classification_filename = \"model_name.csv\"\n",
    "\n",
    "# Evaluate Autogluon models\n",
    "predictions,actuals, train_data, test_data, merged_data,actual_values,predicted_values = autogluon_data_ci_roc(model_name,output_dir_forecasting,output_dir_classification,forecasting_filename,classification_filename,resampled_df, model, scaler,prediction_length,value_to_predict)\n",
    "\n",
    "# Evaluate TimeLLM models\n",
    "predictions,actuals, merged_data,actual_value,predicted_value = timellm_data_ci_roc_(model_name,output_dir_forecasting,output_dir_classification,forecasting_filename,classification_filename,resampled_df, model, scaler,prediction_length,value_to_predict)\n",
    "\n",
    "# Evaluate DARTS models\n",
    "predicted_values, actual_values, keys, pred,actual_values_np,predicted_values_np  = predict_proba_ci_roc(output_dir_classification,classification_filename,output_dir_forecasting,forecasting_filename,model, train_series_dict_full, valid_series_dict_full, prediction_length,scaler)\n",
    "\n",
    "# Evaluate TimesFM models\n",
    "predictions,actuals, merged_data,actual_fever,predicted_fever = timesfm_data_ci_roc_(model_name,output_dir_forecasting,output_dir_classification,forecasting_filename,classification_filename,resampled_df, tfm, scaler,prediction_length,value_to_predict)"
   ]
  },
  {
   "cell_type": "code",
   "execution_count": null,
   "id": "08cf16c5-7463-47ab-9378-0f5103f840f0",
   "metadata": {},
   "outputs": [],
   "source": []
  }
 ],
 "metadata": {
  "kernelspec": {
   "display_name": "Python 3 (ipykernel)",
   "language": "python",
   "name": "python3"
  },
  "language_info": {
   "codemirror_mode": {
    "name": "ipython",
    "version": 3
   },
   "file_extension": ".py",
   "mimetype": "text/x-python",
   "name": "python",
   "nbconvert_exporter": "python",
   "pygments_lexer": "ipython3",
   "version": "3.10.14"
  }
 },
 "nbformat": 4,
 "nbformat_minor": 5
}
